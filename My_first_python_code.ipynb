{
  "nbformat": 4,
  "nbformat_minor": 0,
  "metadata": {
    "colab": {
      "provenance": [],
      "authorship_tag": "ABX9TyMTvQWO/Q9qxtBEkwxBAaWi",
      "include_colab_link": true
    },
    "kernelspec": {
      "name": "python3",
      "display_name": "Python 3"
    },
    "language_info": {
      "name": "python"
    }
  },
  "cells": [
    {
      "cell_type": "markdown",
      "metadata": {
        "id": "view-in-github",
        "colab_type": "text"
      },
      "source": [
        "<a href=\"https://colab.research.google.com/github/kxilll/dataviz2025/blob/main/My_first_python_code.ipynb\" target=\"_parent\"><img src=\"https://colab.research.google.com/assets/colab-badge.svg\" alt=\"Open In Colab\"/></a>"
      ]
    },
    {
      "cell_type": "markdown",
      "source": [
        "Here we can write using **Markdown**\n",
        "# intro"
      ],
      "metadata": {
        "id": "ZNrjFsQlHyPg"
      }
    },
    {
      "cell_type": "code",
      "source": [],
      "metadata": {
        "id": "QPz7G-EvIv8X"
      },
      "execution_count": null,
      "outputs": []
    },
    {
      "cell_type": "markdown",
      "source": [
        "#name"
      ],
      "metadata": {
        "id": "yCSiRvXqIXcc"
      }
    },
    {
      "cell_type": "code",
      "source": [
        "print (\"prommin\")"
      ],
      "metadata": {
        "colab": {
          "base_uri": "https://localhost:8080/"
        },
        "id": "TRudnkVMIvGc",
        "outputId": "1fc393ac-b79e-4df8-ebe8-ecd87bc9c0e7"
      },
      "execution_count": 1,
      "outputs": [
        {
          "output_type": "stream",
          "name": "stdout",
          "text": [
            "prommin\n"
          ]
        }
      ]
    },
    {
      "cell_type": "markdown",
      "source": [
        "#surname"
      ],
      "metadata": {
        "id": "e_AgVFrwIa8F"
      }
    },
    {
      "cell_type": "code",
      "source": [
        "print ('sripo')"
      ],
      "metadata": {
        "colab": {
          "base_uri": "https://localhost:8080/"
        },
        "id": "dxsEt87KIxLP",
        "outputId": "4c278065-f5f4-4925-d366-08175c77ee10"
      },
      "execution_count": 3,
      "outputs": [
        {
          "output_type": "stream",
          "name": "stdout",
          "text": [
            "sripo\n"
          ]
        }
      ]
    }
  ]
}